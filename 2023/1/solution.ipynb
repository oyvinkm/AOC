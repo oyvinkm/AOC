{
 "cells": [
  {
   "cell_type": "code",
   "execution_count": 1,
   "metadata": {},
   "outputs": [],
   "source": [
    "import numpy as np\n",
    "from itertools import groupby\n",
    "import regex as re"
   ]
  },
  {
   "cell_type": "code",
   "execution_count": 2,
   "metadata": {},
   "outputs": [],
   "source": [
    "def split_empy_line(file = 'input.txt'):\n",
    "  with open(file, 'r') as f:\n",
    "    lines = f.read()\n",
    "  return lines.split('\\n\\n')\n",
    "\n",
    "def split_new_line(file = 'input.txt'):\n",
    "  with open(file, 'r') as f:\n",
    "    l = [line.rstrip('\\n') for line in f]\n",
    "  return l"
   ]
  },
  {
   "cell_type": "code",
   "execution_count": 3,
   "metadata": {},
   "outputs": [
    {
     "name": "stdout",
     "output_type": "stream",
     "text": [
      "['two1nine', 'eightwothree', 'abcone2threexyz', 'xtwone3four', '4nineeightseven2', 'zoneight234', '7pqrstsixteen']\n"
     ]
    }
   ],
   "source": [
    "input = split_new_line()\n",
    "example = split_new_line('example.txt')\n",
    "print(example)"
   ]
  },
  {
   "cell_type": "code",
   "execution_count": 4,
   "metadata": {},
   "outputs": [
    {
     "name": "stdout",
     "output_type": "stream",
     "text": [
      "22\n"
     ]
    }
   ],
   "source": [
    "num = list(map(str, re.findall(r'\\d+', example[2])))\n",
    "numb = int(num[0] + num[-1])\n",
    "print(numb)\n"
   ]
  },
  {
   "cell_type": "code",
   "execution_count": 5,
   "metadata": {},
   "outputs": [
    {
     "name": "stdout",
     "output_type": "stream",
     "text": [
      "{'one': '1', 'two': '2', 'three': '3', 'four': '4', 'five': '5', 'six': '6', 'seven': '7', 'eight': '8', 'nine': '9', 'zero': '0', '0': '0', '1': '1', '2': '2', '3': '3', '4': '4', '5': '5', '6': '6', '7': '7', '8': '8', '9': '9'}\n"
     ]
    }
   ],
   "source": [
    "digits = {\n",
    "    'one': '1',\n",
    "    'two': '2',\n",
    "    'three': '3',\n",
    "    'four': '4',\n",
    "    'five': '5',\n",
    "    'six': '6',\n",
    "    'seven': '7',\n",
    "    'eight': '8',\n",
    "    'nine': '9',\n",
    "    'zero': '0'\n",
    "}\n",
    "digits.update({str(i): str(i) for i in range(10)})\n",
    "print(digits)\n",
    "numbers = re.compile(\"|\".join(digits))"
   ]
  },
  {
   "cell_type": "code",
   "execution_count": 6,
   "metadata": {},
   "outputs": [
    {
     "data": {
      "text/plain": [
       "'823'"
      ]
     },
     "execution_count": 6,
     "metadata": {},
     "output_type": "execute_result"
    }
   ],
   "source": [
    "\"\".join(digits[w] for w in numbers.findall(\"eightwothree\", overlapped=True))\n"
   ]
  },
  {
   "cell_type": "code",
   "execution_count": 9,
   "metadata": {},
   "outputs": [
    {
     "data": {
      "text/plain": [
       "55652"
      ]
     },
     "execution_count": 9,
     "metadata": {},
     "output_type": "execute_result"
    }
   ],
   "source": [
    "sum = 0\n",
    "for r in input:\n",
    "  num = \"\".join(digits[w] for w in numbers.findall(r, overlapped=True))\n",
    "  numb = int(num[0] + num[-1])\n",
    "  assert numb > 10 and numb < 100, print(f'Numb is two digit therefore {numb} is wrong')\n",
    "  sum += numb\n",
    "sum"
   ]
  },
  {
   "cell_type": "code",
   "execution_count": null,
   "metadata": {},
   "outputs": [],
   "source": [
    "dict = {'one': '1', 'two': '2', 'three': '3', 'four': '4', 'five': '5', \n",
    "'six': '6', 'seven': '7', 'eight': >lst = []\n",
    "regex = r'(?=(one|two|three|four|five|six|seven|eight|nine|\\d+))'\n",
    "with open('file.txt', 'r') as f:\n",
    "    for line in f:\n",
    "    nums = re.findall(regex, line)\n",
    "    if len(nums) == 1 and len(nums[0]) == 1:\n",
    "        nums *= 2\n",
    "    nums = ''.join([dict[x] if x in dict.keys() else x for x in nums])\n",
    "    lst.append(int(nums[0] + nums[-1]))\n",
    "print(sum(lst))"
   ]
  }
 ],
 "metadata": {
  "kernelspec": {
   "display_name": "master",
   "language": "python",
   "name": "python3"
  },
  "language_info": {
   "codemirror_mode": {
    "name": "ipython",
    "version": 3
   },
   "file_extension": ".py",
   "mimetype": "text/x-python",
   "name": "python",
   "nbconvert_exporter": "python",
   "pygments_lexer": "ipython3",
   "version": "3.11.4"
  }
 },
 "nbformat": 4,
 "nbformat_minor": 2
}
