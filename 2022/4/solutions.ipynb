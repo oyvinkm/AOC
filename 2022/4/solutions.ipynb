{
 "cells": [
  {
   "cell_type": "code",
   "execution_count": 19,
   "metadata": {},
   "outputs": [],
   "source": [
    "import utils\n",
    "import numpy as np"
   ]
  },
  {
   "cell_type": "code",
   "execution_count": 20,
   "metadata": {},
   "outputs": [
    {
     "ename": "ValueError",
     "evalue": "invalid literal for int() with base 10: '2-4,6-8'",
     "output_type": "error",
     "traceback": [
      "\u001b[0;31m---------------------------------------------------------------------------\u001b[0m",
      "\u001b[0;31mValueError\u001b[0m                                Traceback (most recent call last)",
      "\u001b[1;32m/Users/okm/Documents/Advent_of_code/4/solutions.ipynb Cell 2\u001b[0m line \u001b[0;36m1\n\u001b[0;32m----> <a href='vscode-notebook-cell:/Users/okm/Documents/Advent_of_code/4/solutions.ipynb#W1sZmlsZQ%3D%3D?line=0'>1</a>\u001b[0m example \u001b[39m=\u001b[39m utils\u001b[39m.\u001b[39;49msplit_empy_line(\u001b[39m'\u001b[39;49m\u001b[39mexample.txt\u001b[39;49m\u001b[39m'\u001b[39;49m)\n\u001b[1;32m      <a href='vscode-notebook-cell:/Users/okm/Documents/Advent_of_code/4/solutions.ipynb#W1sZmlsZQ%3D%3D?line=1'>2</a>\u001b[0m \u001b[39mprint\u001b[39m(example)\n",
      "File \u001b[0;32m~/Documents/Advent_of_code/4/utils.py:19\u001b[0m, in \u001b[0;36msplit_empy_line\u001b[0;34m(file)\u001b[0m\n\u001b[1;32m     17\u001b[0m \u001b[39mdef\u001b[39;00m \u001b[39msplit_empy_line\u001b[39m(file \u001b[39m=\u001b[39m \u001b[39m'\u001b[39m\u001b[39minput.txt\u001b[39m\u001b[39m'\u001b[39m):\n\u001b[1;32m     18\u001b[0m   \u001b[39mwith\u001b[39;00m \u001b[39mopen\u001b[39m(file, \u001b[39m'\u001b[39m\u001b[39mr\u001b[39m\u001b[39m'\u001b[39m) \u001b[39mas\u001b[39;00m f:\n\u001b[0;32m---> 19\u001b[0m     l \u001b[39m=\u001b[39m [np\u001b[39m.\u001b[39;49msum(np\u001b[39m.\u001b[39;49marray(\u001b[39mlist\u001b[39;49m(g), dtype \u001b[39m=\u001b[39;49m \u001b[39mint\u001b[39;49m)) \u001b[39mfor\u001b[39;49;00m k, g \u001b[39min\u001b[39;49;00m groupby(\u001b[39mmap\u001b[39;49m(\u001b[39mstr\u001b[39;49m\u001b[39m.\u001b[39;49mstrip, f), key\u001b[39m=\u001b[39;49m\u001b[39mlambda\u001b[39;49;00m line: line \u001b[39m!=\u001b[39;49m \u001b[39m'\u001b[39;49m\u001b[39m'\u001b[39;49m) \u001b[39mif\u001b[39;49;00m k]\n\u001b[1;32m     20\u001b[0m   \u001b[39mreturn\u001b[39;00m l\n",
      "File \u001b[0;32m~/Documents/Advent_of_code/4/utils.py:19\u001b[0m, in \u001b[0;36m<listcomp>\u001b[0;34m(.0)\u001b[0m\n\u001b[1;32m     17\u001b[0m \u001b[39mdef\u001b[39;00m \u001b[39msplit_empy_line\u001b[39m(file \u001b[39m=\u001b[39m \u001b[39m'\u001b[39m\u001b[39minput.txt\u001b[39m\u001b[39m'\u001b[39m):\n\u001b[1;32m     18\u001b[0m   \u001b[39mwith\u001b[39;00m \u001b[39mopen\u001b[39m(file, \u001b[39m'\u001b[39m\u001b[39mr\u001b[39m\u001b[39m'\u001b[39m) \u001b[39mas\u001b[39;00m f:\n\u001b[0;32m---> 19\u001b[0m     l \u001b[39m=\u001b[39m [np\u001b[39m.\u001b[39msum(np\u001b[39m.\u001b[39;49marray(\u001b[39mlist\u001b[39;49m(g), dtype \u001b[39m=\u001b[39;49m \u001b[39mint\u001b[39;49m)) \u001b[39mfor\u001b[39;00m k, g \u001b[39min\u001b[39;00m groupby(\u001b[39mmap\u001b[39m(\u001b[39mstr\u001b[39m\u001b[39m.\u001b[39mstrip, f), key\u001b[39m=\u001b[39m\u001b[39mlambda\u001b[39;00m line: line \u001b[39m!=\u001b[39m \u001b[39m'\u001b[39m\u001b[39m'\u001b[39m) \u001b[39mif\u001b[39;00m k]\n\u001b[1;32m     20\u001b[0m   \u001b[39mreturn\u001b[39;00m l\n",
      "\u001b[0;31mValueError\u001b[0m: invalid literal for int() with base 10: '2-4,6-8'"
     ]
    }
   ],
   "source": [
    "input = utils.split_new_line_and_string(delimiter=',')\n",
    "print(input[:3])\n",
    "\n",
    "example = utils.split_new_line_and_string(file = 'example.txt', delimiter=',')\n",
    "example[:3]"
   ]
  },
  {
   "cell_type": "code",
   "execution_count": 18,
   "metadata": {},
   "outputs": [
    {
     "name": "stdout",
     "output_type": "stream",
     "text": [
      "841\n"
     ]
    }
   ],
   "source": [
    "def convert_to_set(x):\n",
    "  x = np.array(str.split(x, '-'), dtype = int)\n",
    "  return set(np.arange(x[0], x[1]+1))\n",
    "\n",
    "count = 0\n",
    "for l in input:\n",
    "  s1, s2 = convert_to_set(l[0]), convert_to_set(l[1])\n",
    "  if len(s1 & s2) > 0:\n",
    "    count += 1\n",
    "print(count)\n",
    "\n",
    "\n"
   ]
  }
 ],
 "metadata": {
  "kernelspec": {
   "display_name": "master",
   "language": "python",
   "name": "python3"
  },
  "language_info": {
   "codemirror_mode": {
    "name": "ipython",
    "version": 3
   },
   "file_extension": ".py",
   "mimetype": "text/x-python",
   "name": "python",
   "nbconvert_exporter": "python",
   "pygments_lexer": "ipython3",
   "version": "3.11.4"
  }
 },
 "nbformat": 4,
 "nbformat_minor": 2
}
