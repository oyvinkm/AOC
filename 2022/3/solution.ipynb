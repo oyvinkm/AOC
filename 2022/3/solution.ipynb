{
 "cells": [
  {
   "cell_type": "code",
   "execution_count": 4,
   "metadata": {},
   "outputs": [],
   "source": [
    "import numpy as np\n",
    "import itertools\n",
    "from itertools import groupby\n",
    "from string import ascii_letters\n",
    "from collections import OrderedDict\n",
    "\n"
   ]
  },
  {
   "cell_type": "code",
   "execution_count": 36,
   "metadata": {},
   "outputs": [],
   "source": [
    "def split_new_line(file = 'input.txt'):\n",
    "  with open(file, 'r') as f:\n",
    "    l = [line.rstrip('\\n') for line in f]\n",
    "  return l\n",
    "def split_new_line_and_string(file = 'input.txt'):\n",
    "  with open(file, 'r') as f:\n",
    "    l = [str.split(line.rstrip('\\n')) for line in f]\n",
    "  return l\n",
    "\n",
    "def split_empy_line(file = 'input.txt'):\n",
    "  with open(file, 'r') as f:\n",
    "    l = [np.sum(np.array(list(g), dtype = int)) for k, g in groupby(map(str.strip, f), key=lambda line: line != '') if k]\n",
    "  return l\n",
    "\n",
    "def char_to_num(char):\n",
    "  return ascii_letters.index(char) +1"
   ]
  },
  {
   "cell_type": "code",
   "execution_count": 46,
   "metadata": {},
   "outputs": [],
   "source": [
    "example = split_new_line('example.txt')\n",
    "example[:2]\n",
    "input = split_new_line()"
   ]
  },
  {
   "cell_type": "code",
   "execution_count": 47,
   "metadata": {},
   "outputs": [
    {
     "name": "stdout",
     "output_type": "stream",
     "text": [
      "7568\n"
     ]
    }
   ],
   "source": [
    "sum = 0\n",
    "for x in input:\n",
    "  x = [char_to_num(ch) for ch in x]\n",
    "  str1, str2 =x[:len(x)//2], x[len(x)//2:]\n",
    "  sum +=  np.sum(list(set(str1) & set(str2)))\n",
    "print(sum)"
   ]
  },
  {
   "cell_type": "code",
   "execution_count": 71,
   "metadata": {},
   "outputs": [
    {
     "name": "stdout",
     "output_type": "stream",
     "text": [
      "2780\n"
     ]
    }
   ],
   "source": [
    "sum = 0\n",
    "for i in range(0,len(input) + 1, 3):\n",
    "  if i > 0:\n",
    "    grp = input[i-3:i]\n",
    "    dup = list(set(grp[0]) & set(grp[1]) & set(grp[2]))\n",
    "    sum += np.sum([char_to_num(ch) for ch in dup])\n",
    "print(sum)\n",
    "    \n"
   ]
  }
 ],
 "metadata": {
  "kernelspec": {
   "display_name": "master",
   "language": "python",
   "name": "python3"
  },
  "language_info": {
   "codemirror_mode": {
    "name": "ipython",
    "version": 3
   },
   "file_extension": ".py",
   "mimetype": "text/x-python",
   "name": "python",
   "nbconvert_exporter": "python",
   "pygments_lexer": "ipython3",
   "version": "3.11.4"
  }
 },
 "nbformat": 4,
 "nbformat_minor": 2
}
