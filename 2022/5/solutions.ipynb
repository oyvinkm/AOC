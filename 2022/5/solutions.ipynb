{
 "cells": [
  {
   "cell_type": "code",
   "execution_count": 110,
   "metadata": {},
   "outputs": [],
   "source": [
    "import utils\n",
    "import numpy as np\n",
    "from itertools import groupby\n",
    "import re"
   ]
  },
  {
   "cell_type": "code",
   "execution_count": 111,
   "metadata": {},
   "outputs": [],
   "source": [
    "def split_empy_line(file = 'input.txt'):\n",
    "  with open(file, 'r') as f:\n",
    "    lines = f.read()\n",
    "  return lines.split('\\n\\n')"
   ]
  },
  {
   "cell_type": "code",
   "execution_count": 112,
   "metadata": {},
   "outputs": [
    {
     "name": "stdout",
     "output_type": "stream",
     "text": [
      "<class 'str'>\n",
      "9\n",
      "<class 'numpy.int64'>\n"
     ]
    }
   ],
   "source": [
    "crates, moves = split_empy_line()\n",
    "print(type(crates))\n",
    "crates = crates.split('\\n')\n",
    "num_crates = max(np.array(str.split(crates[-1].replace(' ', ' ')), dtype =int))\n",
    "print(num_crates)\n",
    "print(type(num_crates))\n",
    "length = len(crates[0]) // num_crates\n",
    "stack = {}\n",
    "for i in range(num_crates):\n",
    "  stack[i+1] = []\n",
    "for lvl in crates[:-1]:\n",
    "  #lvl = lvl.replace(' ','X')\n",
    "  lvl = ' ' + lvl + ' '\n",
    "  for i in range(num_crates):\n",
    "    content = lvl[(length+1)*i : (length+1)*i+(length + 1)].replace(' ', '')\n",
    "    if len(content) > 0:\n",
    "      stack[i+1].append(content)\n"
   ]
  },
  {
   "cell_type": "code",
   "execution_count": 113,
   "metadata": {},
   "outputs": [],
   "source": [
    "\n",
    "def make_move2(str, stack):\n",
    "  num, src, dest = list(map(int, re.findall(r'\\d+', str)))\n",
    "  val = stack[src][:num].copy()\n",
    "  del stack[src][:num]\n",
    "  stack[dest] = val + stack[dest]\n",
    "  return stack\n",
    "\n",
    "  \n"
   ]
  },
  {
   "cell_type": "code",
   "execution_count": 114,
   "metadata": {},
   "outputs": [],
   "source": [
    "def make_move1(str, stack):\n",
    "  num, src, dest = list(map(int, re.findall(r'\\d+', str)))\n",
    "  for i in range(num):\n",
    "    val = stack[src].pop(0)\n",
    "    stack[dest].insert(0, val)\n",
    "  return stack"
   ]
  },
  {
   "cell_type": "code",
   "execution_count": 115,
   "metadata": {},
   "outputs": [
    {
     "name": "stdout",
     "output_type": "stream",
     "text": [
      "LCTQFBVZV\n"
     ]
    }
   ],
   "source": [
    "moves = moves.split('\\n')\n",
    "for mov in moves:\n",
    "  stack = make_move2(mov, stack)\n",
    "\n",
    "strs = ''\n",
    "for k in stack:\n",
    "  strs += stack[k][0][1]\n",
    "\n",
    "print(strs)\n"
   ]
  },
  {
   "cell_type": "code",
   "execution_count": 70,
   "metadata": {},
   "outputs": [
    {
     "data": {
      "text/plain": [
       "['[A]']"
      ]
     },
     "execution_count": 70,
     "metadata": {},
     "output_type": "execute_result"
    }
   ],
   "source": [
    "a = ['[A]','[B]','[C]', '[D]']\n",
    "b = a[:1]\n",
    "b"
   ]
  }
 ],
 "metadata": {
  "kernelspec": {
   "display_name": "master",
   "language": "python",
   "name": "python3"
  },
  "language_info": {
   "codemirror_mode": {
    "name": "ipython",
    "version": 3
   },
   "file_extension": ".py",
   "mimetype": "text/x-python",
   "name": "python",
   "nbconvert_exporter": "python",
   "pygments_lexer": "ipython3",
   "version": "3.11.4"
  }
 },
 "nbformat": 4,
 "nbformat_minor": 2
}
