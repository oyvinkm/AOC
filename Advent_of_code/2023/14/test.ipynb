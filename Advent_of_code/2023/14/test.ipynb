{
 "cells": [
  {
   "cell_type": "code",
   "execution_count": 19,
   "metadata": {},
   "outputs": [],
   "source": [
    "import numpy as np\n",
    "from pathlib import Path"
   ]
  },
  {
   "cell_type": "code",
   "execution_count": 20,
   "metadata": {},
   "outputs": [
    {
     "data": {
      "text/plain": [
       "['O...',\n",
       " 'O.OO',\n",
       " '....',\n",
       " 'OO.#',\n",
       " '.O.#',\n",
       " 'O.#.',\n",
       " '..O.',\n",
       " '....',\n",
       " '#...',\n",
       " '#OO.']"
      ]
     },
     "execution_count": 20,
     "metadata": {},
     "output_type": "execute_result"
    }
   ],
   "source": [
    "lines = Path('example.txt').read_text().splitlines()\n",
    "lines"
   ]
  },
  {
   "cell_type": "code",
   "execution_count": 30,
   "metadata": {},
   "outputs": [
    {
     "name": "stdout",
     "output_type": "stream",
     "text": [
      "[ 0  1  0  0  0 -1  1  0  0  1]\n",
      "[ 0  5  6 10]\n"
     ]
    }
   ],
   "source": [
    "map = {\"#\": -1, \".\": 0, \"O\": 1}\n",
    "mat = np.array([[map[x] for x in line] for line in lines])[:,2]\n",
    "print(mat)\n",
    "arr = mat.copy()\n",
    "edg = np.where(np.diff(np.hstack(([False], (mat == 0) | (mat == 1), [False]))))[0]\n",
    "for i in range(0, len(edg), 2):\n",
    "  arr[edg[i] : edg[i + 1]] = np.sort(arr[edg[i] : edg[i + 1]])[::order]\n",
    "print(edg)"
   ]
  },
  {
   "cell_type": "code",
   "execution_count": null,
   "metadata": {},
   "outputs": [],
   "source": [
    "def spin(mat):\n",
    "    # north\n",
    "    for column in range(mat.shape[1]):\n",
    "        rollblocks(mat[:, column], order=-1)\n",
    "\n",
    "    # west\n",
    "    for row in range(mat.shape[0]):\n",
    "        rollblocks(mat[row, :], order=-1)\n",
    "\n",
    "    # south\n",
    "    for column in range(mat.shape[1]):\n",
    "        rollblocks(mat[:, column], order=1)\n",
    "\n",
    "    # east\n",
    "    for row in range(mat.shape[0]):\n",
    "        rollblocks(mat[row, :], order=1)\n"
   ]
  }
 ],
 "metadata": {
  "kernelspec": {
   "display_name": "master",
   "language": "python",
   "name": "python3"
  },
  "language_info": {
   "codemirror_mode": {
    "name": "ipython",
    "version": 3
   },
   "file_extension": ".py",
   "mimetype": "text/x-python",
   "name": "python",
   "nbconvert_exporter": "python",
   "pygments_lexer": "ipython3",
   "version": "3.11.4"
  }
 },
 "nbformat": 4,
 "nbformat_minor": 2
}
